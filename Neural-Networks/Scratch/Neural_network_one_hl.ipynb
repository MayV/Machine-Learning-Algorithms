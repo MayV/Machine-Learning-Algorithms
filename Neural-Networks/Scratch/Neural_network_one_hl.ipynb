{
 "cells": [
  {
   "cell_type": "code",
   "execution_count": 1,
   "metadata": {
    "collapsed": true
   },
   "outputs": [],
   "source": [
    "import numpy as np"
   ]
  },
  {
   "cell_type": "code",
   "execution_count": 3,
   "metadata": {},
   "outputs": [
    {
     "data": {
      "text/plain": [
       "((4, 2), (4, 1))"
      ]
     },
     "execution_count": 3,
     "metadata": {},
     "output_type": "execute_result"
    }
   ],
   "source": [
    "x = np.array([[0,0],[0,1],[1,0],[1,1]])\n",
    "y = np.array([[0,1,1,0]]).T\n",
    "\n",
    "x.shape,y.shape"
   ]
  },
  {
   "cell_type": "code",
   "execution_count": 4,
   "metadata": {
    "collapsed": true
   },
   "outputs": [],
   "source": [
    "def sig(z):\n",
    "    return 1/(1+np.exp(-z))"
   ]
  },
  {
   "cell_type": "code",
   "execution_count": 5,
   "metadata": {
    "collapsed": true
   },
   "outputs": [],
   "source": [
    "def dsig(z):\n",
    "    return sig(z)*(1-sig(z))"
   ]
  },
  {
   "cell_type": "code",
   "execution_count": 97,
   "metadata": {},
   "outputs": [],
   "source": [
    "weights01 = 2*np.random.random((2,2))-1\n",
    "bias01 = 2*np.random.random((1,2))-1\n",
    "weights12 = 2*np.random.random((2,1))-1\n",
    "bias12 = 2*np.random.random((1,1))-1\n",
    "lr = 1.23"
   ]
  },
  {
   "cell_type": "code",
   "execution_count": 99,
   "metadata": {},
   "outputs": [
    {
     "data": {
      "text/plain": [
       "(array([[ 0.00809047],\n",
       "        [ 0.99314231],\n",
       "        [ 0.99314234],\n",
       "        [ 0.00700841]]), array([[ 6.88517005,  5.16777215],\n",
       "        [ 6.88510559,  5.16775467]]), array([[-3.11912657, -7.92025134]]), array([[ 11.22025298],\n",
       "        [-11.86737117]]), array([[-5.27953357]]))"
      ]
     },
     "execution_count": 99,
     "metadata": {},
     "output_type": "execute_result"
    }
   ],
   "source": [
    "#forward propogation\n",
    "for iter in range(10000):\n",
    "    output0 = x\n",
    "    input1 = np.dot(output0,weights01)+bias01\n",
    "    output1 = sig(input1)\n",
    "    input2 = np.dot(output1,weights12)+bias12\n",
    "    output2 = sig(input2)\n",
    "\n",
    "    ft12 = (output2-y)*dsig(input2)\n",
    "    ft01 = np.dot(ft12,weights12.T)*dsig(input1)\n",
    "\n",
    "    bias12change = np.sum(ft12,axis=0,keepdims=True)\n",
    "    changes12 = (np.dot(output1.T,ft12))\n",
    "    bias01change = np.sum(ft01,axis=0,keepdims=True)\n",
    "    changes01 = (np.dot(output0.T,ft01))\n",
    "\n",
    "    weights12 = weights12 - lr*changes12\n",
    "    bias12 = bias12 - (lr*bias12change)\n",
    "    weights01 = weights01 - lr*changes01\n",
    "    bias01 = bias01 - (lr*bias01change)\n",
    "\n",
    "\n",
    "output0 = x\n",
    "input1 = np.dot(output0,weights01)+bias01\n",
    "output1 = sig(input1)\n",
    "input2 = np.dot(output1,weights12)+bias12\n",
    "output2 = sig(input2)\n",
    "\n",
    "output2,weights01,bias01,weights12,bias12"
   ]
  },
  {
   "cell_type": "code",
   "execution_count": null,
   "metadata": {
    "collapsed": true
   },
   "outputs": [],
   "source": []
  }
 ],
 "metadata": {
  "kernelspec": {
   "display_name": "Python 3",
   "language": "python",
   "name": "python3"
  },
  "language_info": {
   "codemirror_mode": {
    "name": "ipython",
    "version": 3
   },
   "file_extension": ".py",
   "mimetype": "text/x-python",
   "name": "python",
   "nbconvert_exporter": "python",
   "pygments_lexer": "ipython3",
   "version": "3.6.3"
  }
 },
 "nbformat": 4,
 "nbformat_minor": 2
}
